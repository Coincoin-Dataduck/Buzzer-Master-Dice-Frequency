{
 "cells": [
  {
   "cell_type": "code",
   "execution_count": 51,
   "metadata": {
    "collapsed": true
   },
   "outputs": [
    {
     "name": "stderr",
     "output_type": "stream",
     "text": [
      "/home/coin/anaconda3/lib/python3.9/site-packages/IPython/core/interactiveshell.py:3444: DtypeWarning: Columns (0,1,2,3,4,5,7,8,9,10,11,12,13,14,15,16,17,18) have mixed types.Specify dtype option on import or set low_memory=False.\n",
      "  exec(code_obj, self.user_global_ns, self.user_ns)\n"
     ]
    }
   ],
   "source": [
    "import pandas as pd\n",
    "import numpy as np\n",
    "wordlist = pd.read_csv(\"wordlist.csv\",)\n",
    "\n",
    "#retraitement des dtype\n",
    "for column in wordlist.columns:\n",
    "    wordlist[column] = wordlist[column].astype(\"str\")"
   ]
  },
  {
   "cell_type": "code",
   "execution_count": 52,
   "outputs": [],
   "source": [
    "# création df des listes de lettre\n",
    "firstletterlist = pd.DataFrame()\n",
    "\n",
    "#on remplace les nan par les œ, parce que je les ai str à l’import (sinon on a beaucoup de mot qui commence par N, les œ on peut les supprimer ensuite)\n",
    "wordlist = wordlist.replace(\"nan\", \"œ\")\n",
    "\n",
    "#garder que la première lettre le chaque colonne et la mettre en majuscule\n",
    "for column in wordlist.columns:\n",
    "    firstletterlist[column] = wordlist[column].apply(lambda mot: mot[0])\n",
    "    firstletterlist[column] = firstletterlist[column].apply(lambda lettre: lettre.upper())"
   ],
   "metadata": {
    "collapsed": false,
    "pycharm": {
     "name": "#%%\n"
    }
   }
  },
  {
   "cell_type": "code",
   "execution_count": 53,
   "outputs": [],
   "source": [
    "# on remplace tous les caractères qui ne sont pas dans l’alphabet\n",
    "# 1 on cherche dans le tableau tous les caractères qui ne sont pas dans l’alphabêt\n",
    "to_replace_list = []\n",
    "for column in firstletterlist.columns:\n",
    "    for caract in firstletterlist[column].astype(\"str\"):\n",
    "        if (caract > \"Z\" or caract < \"A\") and caract not in to_replace_list:\n",
    "            to_replace_list.append(caract)\n",
    "# 2 on remplace chacun des caractère par œ\n",
    "for caract in to_replace_list:\n",
    "    firstletterlist = firstletterlist.replace(caract, np.NaN)"
   ],
   "metadata": {
    "collapsed": false,
    "pycharm": {
     "name": "#%%\n"
    }
   }
  },
  {
   "cell_type": "code",
   "execution_count": 54,
   "outputs": [
    {
     "data": {
      "text/plain": "    Afrikaans  Croatian  Czech  Danish  Dutch  Finish  German  Hungarian  \\\nA        5.83      2.14   1.85    5.48   7.29    5.37   11.15       5.86   \nB        7.93      3.88   2.43    6.70   7.93    1.52    6.78       4.54   \nC        0.29      2.42   2.37    2.01   1.88    0.92    0.74       2.60   \nD        4.60      5.89   4.90    3.52   4.17    1.01    3.73       2.07   \nE        2.42      1.20   0.78    2.82   1.88    3.48    6.03       7.78   \nF        1.81      1.37   0.91    7.77   1.51    1.00    4.48       5.75   \nG        9.05      2.51   0.57    4.22   7.61    0.91    6.04       2.23   \nH        4.72      1.31   2.27    5.35   3.73    5.64    5.08       4.80   \nI        3.17      4.62   1.10    3.02   2.35    2.40    1.59       3.46   \nJ        0.90      1.53   1.07    1.30   0.66    2.77    0.58       2.27   \nK        9.00      5.42   4.60    6.38   6.25   13.32    5.97      10.31   \nL        3.73      2.18   1.69    4.23   3.31    6.21    2.92       3.86   \nM        4.28      4.59   3.13    5.41   3.96    6.59    4.07       7.96   \nN        2.44      6.96  19.81    3.11   1.83    2.87    2.34       3.35   \nO        7.40      6.83   5.78    3.34   6.77    2.81    1.00       2.63   \nP        4.10     15.40  14.18    4.63   4.77    9.12    4.32       3.50   \nQ        0.02      0.02    NaN    0.07   0.05    0.05    0.33       0.11   \nR        3.23      4.19   3.94    3.80   3.74    4.45    3.52       3.14   \nS       13.69     11.10   8.54   12.98   9.00    9.05    9.64       7.75   \nSS        NaN       NaN    NaN    0.00    NaN     NaN     NaN        NaN   \nT        4.57      3.90   2.59    5.98   4.57    8.96    3.27       7.09   \nU        1.57      3.95   3.07    3.39   2.03    1.49    3.51       2.16   \nV        4.98      3.48   7.40    3.54   8.36    7.41    5.43       5.34   \nW        0.27      0.11   0.01    0.36   3.70    0.46    3.75       0.43   \nX        0.00      0.02   0.00    0.06   0.02    0.02    0.06       0.10   \nY        0.01      0.04   0.00    0.23   0.02    2.03    0.03       0.12   \nZ        0.00      4.96   7.00    0.29   2.61    0.15    3.62       0.78   \n\n    Italian  Norvegian  Polish  Spanish  Swailii  Swedish  turkish  French  \\\nA     12.23       7.32    2.14    11.89    19.69     5.70     7.26    7.71   \nB      2.42       7.77    3.00     2.80     0.68     6.20     7.20    4.95   \nC      9.40       0.48    2.67    11.62     0.32     0.87     1.73   10.66   \nD      7.22       4.07    4.89    11.63     0.43     3.20     6.42   11.20   \nE      2.95       2.72    1.95    11.23     0.29     2.46     3.77    9.52   \nF      3.38       7.68    2.08     2.87     0.49     8.29     2.75    3.57   \nG      2.61       3.50    2.91     1.59     0.23     3.65     4.41    3.11   \nH      0.08       4.04    1.72     1.77     7.32     4.40     4.36    1.90   \nI      5.88       2.37    1.97     5.81     3.48     3.16     4.15    3.32   \nJ      0.05       0.78    1.50     0.60     0.62     1.12     0.20    0.77   \nK      0.06       6.72    6.53     0.01    11.34     7.59    10.81    0.31   \nL      3.08       3.62    2.57     2.08     1.66     4.03     1.46    2.23   \nM      3.33       4.65    4.28     3.75    11.57     4.58     7.37    5.10   \nN      1.44       2.22    5.14     0.93     7.40     3.21     1.83    1.34   \nO      2.33       3.26    5.98     1.88     0.24     4.60     2.98    1.63   \nP      7.28       5.13   14.97     7.74     0.87     5.06     4.22    8.11   \nQ      0.37       0.02    0.51     0.32     0.01     0.02      NaN    0.33   \nR      8.63       4.11    4.69     8.28     0.23     4.25     1.73   10.15   \nS     17.39      14.00    9.11     5.07     2.01    13.24    10.63    6.48   \nSS      NaN        NaN     NaN      NaN      NaN      NaN      NaN     NaN   \nT      5.21       6.65    3.14     4.58     5.02     5.93     7.39    4.71   \nU      1.08       4.28    3.63     0.62     6.74     3.99     1.92    0.32   \nV      3.07       4.10    0.01     2.57     1.30     3.89     1.48    2.05   \nW      0.06       0.10    7.61     0.00    14.50     0.19      NaN    0.08   \nX      0.03       0.02    0.00     0.01      NaN     0.04      NaN    0.03   \nY      0.02       0.32    0.01     0.10     2.30     0.25     4.46    0.10   \nZ      0.38       0.07    6.98     0.25     1.25     0.10     1.49    0.31   \n\n    English  Portugese  Finnish  \nA      6.61      13.76     4.20  \nB      5.22       3.45     0.64  \nC      8.35       9.39     0.12  \nD      4.88      10.46     0.59  \nE      3.60      12.92     2.69  \nF      3.40       3.14     0.68  \nG      3.10       2.55     0.35  \nH      4.00       2.28     6.08  \nI      3.26       3.67     2.18  \nJ      0.89       0.57     2.61  \nK      1.32       0.01    15.23  \nL      3.02       2.69     7.05  \nM      5.40       5.43     6.57  \nN      3.47       1.57     2.98  \nO      3.23       2.23     1.93  \nP      8.78       7.70    10.55  \nQ      0.69       0.66     0.01  \nR      4.56       5.70     5.65  \nS     10.84       4.54     9.99  \nSS      NaN        NaN      NaN  \nT      5.41       4.65     8.95  \nU      5.10       0.59     1.40  \nV      1.46       1.56     7.78  \nW      2.50       0.01     0.03  \nX      0.13       0.18     0.00  \nY      0.37       0.00     1.71  \nZ      0.39       0.32     0.02  ",
      "text/html": "<div>\n<style scoped>\n    .dataframe tbody tr th:only-of-type {\n        vertical-align: middle;\n    }\n\n    .dataframe tbody tr th {\n        vertical-align: top;\n    }\n\n    .dataframe thead th {\n        text-align: right;\n    }\n</style>\n<table border=\"1\" class=\"dataframe\">\n  <thead>\n    <tr style=\"text-align: right;\">\n      <th></th>\n      <th>Afrikaans</th>\n      <th>Croatian</th>\n      <th>Czech</th>\n      <th>Danish</th>\n      <th>Dutch</th>\n      <th>Finish</th>\n      <th>German</th>\n      <th>Hungarian</th>\n      <th>Italian</th>\n      <th>Norvegian</th>\n      <th>Polish</th>\n      <th>Spanish</th>\n      <th>Swailii</th>\n      <th>Swedish</th>\n      <th>turkish</th>\n      <th>French</th>\n      <th>English</th>\n      <th>Portugese</th>\n      <th>Finnish</th>\n    </tr>\n  </thead>\n  <tbody>\n    <tr>\n      <th>A</th>\n      <td>5.83</td>\n      <td>2.14</td>\n      <td>1.85</td>\n      <td>5.48</td>\n      <td>7.29</td>\n      <td>5.37</td>\n      <td>11.15</td>\n      <td>5.86</td>\n      <td>12.23</td>\n      <td>7.32</td>\n      <td>2.14</td>\n      <td>11.89</td>\n      <td>19.69</td>\n      <td>5.70</td>\n      <td>7.26</td>\n      <td>7.71</td>\n      <td>6.61</td>\n      <td>13.76</td>\n      <td>4.20</td>\n    </tr>\n    <tr>\n      <th>B</th>\n      <td>7.93</td>\n      <td>3.88</td>\n      <td>2.43</td>\n      <td>6.70</td>\n      <td>7.93</td>\n      <td>1.52</td>\n      <td>6.78</td>\n      <td>4.54</td>\n      <td>2.42</td>\n      <td>7.77</td>\n      <td>3.00</td>\n      <td>2.80</td>\n      <td>0.68</td>\n      <td>6.20</td>\n      <td>7.20</td>\n      <td>4.95</td>\n      <td>5.22</td>\n      <td>3.45</td>\n      <td>0.64</td>\n    </tr>\n    <tr>\n      <th>C</th>\n      <td>0.29</td>\n      <td>2.42</td>\n      <td>2.37</td>\n      <td>2.01</td>\n      <td>1.88</td>\n      <td>0.92</td>\n      <td>0.74</td>\n      <td>2.60</td>\n      <td>9.40</td>\n      <td>0.48</td>\n      <td>2.67</td>\n      <td>11.62</td>\n      <td>0.32</td>\n      <td>0.87</td>\n      <td>1.73</td>\n      <td>10.66</td>\n      <td>8.35</td>\n      <td>9.39</td>\n      <td>0.12</td>\n    </tr>\n    <tr>\n      <th>D</th>\n      <td>4.60</td>\n      <td>5.89</td>\n      <td>4.90</td>\n      <td>3.52</td>\n      <td>4.17</td>\n      <td>1.01</td>\n      <td>3.73</td>\n      <td>2.07</td>\n      <td>7.22</td>\n      <td>4.07</td>\n      <td>4.89</td>\n      <td>11.63</td>\n      <td>0.43</td>\n      <td>3.20</td>\n      <td>6.42</td>\n      <td>11.20</td>\n      <td>4.88</td>\n      <td>10.46</td>\n      <td>0.59</td>\n    </tr>\n    <tr>\n      <th>E</th>\n      <td>2.42</td>\n      <td>1.20</td>\n      <td>0.78</td>\n      <td>2.82</td>\n      <td>1.88</td>\n      <td>3.48</td>\n      <td>6.03</td>\n      <td>7.78</td>\n      <td>2.95</td>\n      <td>2.72</td>\n      <td>1.95</td>\n      <td>11.23</td>\n      <td>0.29</td>\n      <td>2.46</td>\n      <td>3.77</td>\n      <td>9.52</td>\n      <td>3.60</td>\n      <td>12.92</td>\n      <td>2.69</td>\n    </tr>\n    <tr>\n      <th>F</th>\n      <td>1.81</td>\n      <td>1.37</td>\n      <td>0.91</td>\n      <td>7.77</td>\n      <td>1.51</td>\n      <td>1.00</td>\n      <td>4.48</td>\n      <td>5.75</td>\n      <td>3.38</td>\n      <td>7.68</td>\n      <td>2.08</td>\n      <td>2.87</td>\n      <td>0.49</td>\n      <td>8.29</td>\n      <td>2.75</td>\n      <td>3.57</td>\n      <td>3.40</td>\n      <td>3.14</td>\n      <td>0.68</td>\n    </tr>\n    <tr>\n      <th>G</th>\n      <td>9.05</td>\n      <td>2.51</td>\n      <td>0.57</td>\n      <td>4.22</td>\n      <td>7.61</td>\n      <td>0.91</td>\n      <td>6.04</td>\n      <td>2.23</td>\n      <td>2.61</td>\n      <td>3.50</td>\n      <td>2.91</td>\n      <td>1.59</td>\n      <td>0.23</td>\n      <td>3.65</td>\n      <td>4.41</td>\n      <td>3.11</td>\n      <td>3.10</td>\n      <td>2.55</td>\n      <td>0.35</td>\n    </tr>\n    <tr>\n      <th>H</th>\n      <td>4.72</td>\n      <td>1.31</td>\n      <td>2.27</td>\n      <td>5.35</td>\n      <td>3.73</td>\n      <td>5.64</td>\n      <td>5.08</td>\n      <td>4.80</td>\n      <td>0.08</td>\n      <td>4.04</td>\n      <td>1.72</td>\n      <td>1.77</td>\n      <td>7.32</td>\n      <td>4.40</td>\n      <td>4.36</td>\n      <td>1.90</td>\n      <td>4.00</td>\n      <td>2.28</td>\n      <td>6.08</td>\n    </tr>\n    <tr>\n      <th>I</th>\n      <td>3.17</td>\n      <td>4.62</td>\n      <td>1.10</td>\n      <td>3.02</td>\n      <td>2.35</td>\n      <td>2.40</td>\n      <td>1.59</td>\n      <td>3.46</td>\n      <td>5.88</td>\n      <td>2.37</td>\n      <td>1.97</td>\n      <td>5.81</td>\n      <td>3.48</td>\n      <td>3.16</td>\n      <td>4.15</td>\n      <td>3.32</td>\n      <td>3.26</td>\n      <td>3.67</td>\n      <td>2.18</td>\n    </tr>\n    <tr>\n      <th>J</th>\n      <td>0.90</td>\n      <td>1.53</td>\n      <td>1.07</td>\n      <td>1.30</td>\n      <td>0.66</td>\n      <td>2.77</td>\n      <td>0.58</td>\n      <td>2.27</td>\n      <td>0.05</td>\n      <td>0.78</td>\n      <td>1.50</td>\n      <td>0.60</td>\n      <td>0.62</td>\n      <td>1.12</td>\n      <td>0.20</td>\n      <td>0.77</td>\n      <td>0.89</td>\n      <td>0.57</td>\n      <td>2.61</td>\n    </tr>\n    <tr>\n      <th>K</th>\n      <td>9.00</td>\n      <td>5.42</td>\n      <td>4.60</td>\n      <td>6.38</td>\n      <td>6.25</td>\n      <td>13.32</td>\n      <td>5.97</td>\n      <td>10.31</td>\n      <td>0.06</td>\n      <td>6.72</td>\n      <td>6.53</td>\n      <td>0.01</td>\n      <td>11.34</td>\n      <td>7.59</td>\n      <td>10.81</td>\n      <td>0.31</td>\n      <td>1.32</td>\n      <td>0.01</td>\n      <td>15.23</td>\n    </tr>\n    <tr>\n      <th>L</th>\n      <td>3.73</td>\n      <td>2.18</td>\n      <td>1.69</td>\n      <td>4.23</td>\n      <td>3.31</td>\n      <td>6.21</td>\n      <td>2.92</td>\n      <td>3.86</td>\n      <td>3.08</td>\n      <td>3.62</td>\n      <td>2.57</td>\n      <td>2.08</td>\n      <td>1.66</td>\n      <td>4.03</td>\n      <td>1.46</td>\n      <td>2.23</td>\n      <td>3.02</td>\n      <td>2.69</td>\n      <td>7.05</td>\n    </tr>\n    <tr>\n      <th>M</th>\n      <td>4.28</td>\n      <td>4.59</td>\n      <td>3.13</td>\n      <td>5.41</td>\n      <td>3.96</td>\n      <td>6.59</td>\n      <td>4.07</td>\n      <td>7.96</td>\n      <td>3.33</td>\n      <td>4.65</td>\n      <td>4.28</td>\n      <td>3.75</td>\n      <td>11.57</td>\n      <td>4.58</td>\n      <td>7.37</td>\n      <td>5.10</td>\n      <td>5.40</td>\n      <td>5.43</td>\n      <td>6.57</td>\n    </tr>\n    <tr>\n      <th>N</th>\n      <td>2.44</td>\n      <td>6.96</td>\n      <td>19.81</td>\n      <td>3.11</td>\n      <td>1.83</td>\n      <td>2.87</td>\n      <td>2.34</td>\n      <td>3.35</td>\n      <td>1.44</td>\n      <td>2.22</td>\n      <td>5.14</td>\n      <td>0.93</td>\n      <td>7.40</td>\n      <td>3.21</td>\n      <td>1.83</td>\n      <td>1.34</td>\n      <td>3.47</td>\n      <td>1.57</td>\n      <td>2.98</td>\n    </tr>\n    <tr>\n      <th>O</th>\n      <td>7.40</td>\n      <td>6.83</td>\n      <td>5.78</td>\n      <td>3.34</td>\n      <td>6.77</td>\n      <td>2.81</td>\n      <td>1.00</td>\n      <td>2.63</td>\n      <td>2.33</td>\n      <td>3.26</td>\n      <td>5.98</td>\n      <td>1.88</td>\n      <td>0.24</td>\n      <td>4.60</td>\n      <td>2.98</td>\n      <td>1.63</td>\n      <td>3.23</td>\n      <td>2.23</td>\n      <td>1.93</td>\n    </tr>\n    <tr>\n      <th>P</th>\n      <td>4.10</td>\n      <td>15.40</td>\n      <td>14.18</td>\n      <td>4.63</td>\n      <td>4.77</td>\n      <td>9.12</td>\n      <td>4.32</td>\n      <td>3.50</td>\n      <td>7.28</td>\n      <td>5.13</td>\n      <td>14.97</td>\n      <td>7.74</td>\n      <td>0.87</td>\n      <td>5.06</td>\n      <td>4.22</td>\n      <td>8.11</td>\n      <td>8.78</td>\n      <td>7.70</td>\n      <td>10.55</td>\n    </tr>\n    <tr>\n      <th>Q</th>\n      <td>0.02</td>\n      <td>0.02</td>\n      <td>NaN</td>\n      <td>0.07</td>\n      <td>0.05</td>\n      <td>0.05</td>\n      <td>0.33</td>\n      <td>0.11</td>\n      <td>0.37</td>\n      <td>0.02</td>\n      <td>0.51</td>\n      <td>0.32</td>\n      <td>0.01</td>\n      <td>0.02</td>\n      <td>NaN</td>\n      <td>0.33</td>\n      <td>0.69</td>\n      <td>0.66</td>\n      <td>0.01</td>\n    </tr>\n    <tr>\n      <th>R</th>\n      <td>3.23</td>\n      <td>4.19</td>\n      <td>3.94</td>\n      <td>3.80</td>\n      <td>3.74</td>\n      <td>4.45</td>\n      <td>3.52</td>\n      <td>3.14</td>\n      <td>8.63</td>\n      <td>4.11</td>\n      <td>4.69</td>\n      <td>8.28</td>\n      <td>0.23</td>\n      <td>4.25</td>\n      <td>1.73</td>\n      <td>10.15</td>\n      <td>4.56</td>\n      <td>5.70</td>\n      <td>5.65</td>\n    </tr>\n    <tr>\n      <th>S</th>\n      <td>13.69</td>\n      <td>11.10</td>\n      <td>8.54</td>\n      <td>12.98</td>\n      <td>9.00</td>\n      <td>9.05</td>\n      <td>9.64</td>\n      <td>7.75</td>\n      <td>17.39</td>\n      <td>14.00</td>\n      <td>9.11</td>\n      <td>5.07</td>\n      <td>2.01</td>\n      <td>13.24</td>\n      <td>10.63</td>\n      <td>6.48</td>\n      <td>10.84</td>\n      <td>4.54</td>\n      <td>9.99</td>\n    </tr>\n    <tr>\n      <th>SS</th>\n      <td>NaN</td>\n      <td>NaN</td>\n      <td>NaN</td>\n      <td>0.00</td>\n      <td>NaN</td>\n      <td>NaN</td>\n      <td>NaN</td>\n      <td>NaN</td>\n      <td>NaN</td>\n      <td>NaN</td>\n      <td>NaN</td>\n      <td>NaN</td>\n      <td>NaN</td>\n      <td>NaN</td>\n      <td>NaN</td>\n      <td>NaN</td>\n      <td>NaN</td>\n      <td>NaN</td>\n      <td>NaN</td>\n    </tr>\n    <tr>\n      <th>T</th>\n      <td>4.57</td>\n      <td>3.90</td>\n      <td>2.59</td>\n      <td>5.98</td>\n      <td>4.57</td>\n      <td>8.96</td>\n      <td>3.27</td>\n      <td>7.09</td>\n      <td>5.21</td>\n      <td>6.65</td>\n      <td>3.14</td>\n      <td>4.58</td>\n      <td>5.02</td>\n      <td>5.93</td>\n      <td>7.39</td>\n      <td>4.71</td>\n      <td>5.41</td>\n      <td>4.65</td>\n      <td>8.95</td>\n    </tr>\n    <tr>\n      <th>U</th>\n      <td>1.57</td>\n      <td>3.95</td>\n      <td>3.07</td>\n      <td>3.39</td>\n      <td>2.03</td>\n      <td>1.49</td>\n      <td>3.51</td>\n      <td>2.16</td>\n      <td>1.08</td>\n      <td>4.28</td>\n      <td>3.63</td>\n      <td>0.62</td>\n      <td>6.74</td>\n      <td>3.99</td>\n      <td>1.92</td>\n      <td>0.32</td>\n      <td>5.10</td>\n      <td>0.59</td>\n      <td>1.40</td>\n    </tr>\n    <tr>\n      <th>V</th>\n      <td>4.98</td>\n      <td>3.48</td>\n      <td>7.40</td>\n      <td>3.54</td>\n      <td>8.36</td>\n      <td>7.41</td>\n      <td>5.43</td>\n      <td>5.34</td>\n      <td>3.07</td>\n      <td>4.10</td>\n      <td>0.01</td>\n      <td>2.57</td>\n      <td>1.30</td>\n      <td>3.89</td>\n      <td>1.48</td>\n      <td>2.05</td>\n      <td>1.46</td>\n      <td>1.56</td>\n      <td>7.78</td>\n    </tr>\n    <tr>\n      <th>W</th>\n      <td>0.27</td>\n      <td>0.11</td>\n      <td>0.01</td>\n      <td>0.36</td>\n      <td>3.70</td>\n      <td>0.46</td>\n      <td>3.75</td>\n      <td>0.43</td>\n      <td>0.06</td>\n      <td>0.10</td>\n      <td>7.61</td>\n      <td>0.00</td>\n      <td>14.50</td>\n      <td>0.19</td>\n      <td>NaN</td>\n      <td>0.08</td>\n      <td>2.50</td>\n      <td>0.01</td>\n      <td>0.03</td>\n    </tr>\n    <tr>\n      <th>X</th>\n      <td>0.00</td>\n      <td>0.02</td>\n      <td>0.00</td>\n      <td>0.06</td>\n      <td>0.02</td>\n      <td>0.02</td>\n      <td>0.06</td>\n      <td>0.10</td>\n      <td>0.03</td>\n      <td>0.02</td>\n      <td>0.00</td>\n      <td>0.01</td>\n      <td>NaN</td>\n      <td>0.04</td>\n      <td>NaN</td>\n      <td>0.03</td>\n      <td>0.13</td>\n      <td>0.18</td>\n      <td>0.00</td>\n    </tr>\n    <tr>\n      <th>Y</th>\n      <td>0.01</td>\n      <td>0.04</td>\n      <td>0.00</td>\n      <td>0.23</td>\n      <td>0.02</td>\n      <td>2.03</td>\n      <td>0.03</td>\n      <td>0.12</td>\n      <td>0.02</td>\n      <td>0.32</td>\n      <td>0.01</td>\n      <td>0.10</td>\n      <td>2.30</td>\n      <td>0.25</td>\n      <td>4.46</td>\n      <td>0.10</td>\n      <td>0.37</td>\n      <td>0.00</td>\n      <td>1.71</td>\n    </tr>\n    <tr>\n      <th>Z</th>\n      <td>0.00</td>\n      <td>4.96</td>\n      <td>7.00</td>\n      <td>0.29</td>\n      <td>2.61</td>\n      <td>0.15</td>\n      <td>3.62</td>\n      <td>0.78</td>\n      <td>0.38</td>\n      <td>0.07</td>\n      <td>6.98</td>\n      <td>0.25</td>\n      <td>1.25</td>\n      <td>0.10</td>\n      <td>1.49</td>\n      <td>0.31</td>\n      <td>0.39</td>\n      <td>0.32</td>\n      <td>0.02</td>\n    </tr>\n  </tbody>\n</table>\n</div>"
     },
     "execution_count": 54,
     "metadata": {},
     "output_type": "execute_result"
    }
   ],
   "source": [
    "#compte des lettres pour chaque colonne\n",
    "frequency = {}\n",
    "for column in firstletterlist.columns:\n",
    "    frequency[column] = firstletterlist[column].value_counts(normalize = True)\n",
    "frequency = pd.DataFrame(frequency)\n",
    "\n",
    "frequency.apply(lambda value : round(value*100, 2))"
   ],
   "metadata": {
    "collapsed": false,
    "pycharm": {
     "name": "#%%\n"
    }
   }
  },
  {
   "cell_type": "code",
   "execution_count": 55,
   "outputs": [
    {
     "name": "stdout",
     "output_type": "stream",
     "text": [
      "Afrikaans    1.0\n",
      "Croatian     1.0\n",
      "Czech        1.0\n",
      "Danish       1.0\n",
      "Dutch        1.0\n",
      "Finish       1.0\n",
      "German       1.0\n",
      "Hungarian    1.0\n",
      "Italian      1.0\n",
      "Norvegian    1.0\n",
      "Polish       1.0\n",
      "Spanish      1.0\n",
      "Swailii      1.0\n",
      "Swedish      1.0\n",
      "turkish      1.0\n",
      "French       1.0\n",
      "English      1.0\n",
      "Portugese    1.0\n",
      "Finnish      1.0\n",
      "dtype: float64\n"
     ]
    }
   ],
   "source": [
    "# vérification des valeurs\n",
    "print(frequency.sum())"
   ],
   "metadata": {
    "collapsed": false,
    "pycharm": {
     "name": "#%%\n"
    }
   }
  },
  {
   "cell_type": "code",
   "execution_count": 55,
   "outputs": [],
   "source": [],
   "metadata": {
    "collapsed": false,
    "pycharm": {
     "name": "#%%\n"
    }
   }
  },
  {
   "cell_type": "code",
   "execution_count": 56,
   "outputs": [],
   "source": [
    "# export des fréquences pour plus tard\n",
    "frequency.to_csv(\"frequancelettre.csv\")"
   ],
   "metadata": {
    "collapsed": false,
    "pycharm": {
     "name": "#%%\n"
    }
   }
  },
  {
   "cell_type": "code",
   "execution_count": 57,
   "outputs": [],
   "source": [
    "# Attribution des faces de dé pour chaque langue\n",
    "# Génération des dectionnaire pour chaque dé\n",
    "de1 = {}\n",
    "de2 = {}\n",
    "de3 = {}\n",
    "de4 = {}\n",
    "\n",
    "# Création des entrées pour chaque langue dans le dic\n",
    "for column in frequency.columns:\n",
    "    i = 0\n",
    "    de1[column] = []\n",
    "    de2[column] = []\n",
    "    de3[column] = []\n",
    "    de4[column] = []\n",
    "\n",
    "# Assignation des lettres sur chaque face par incrémentation des entrée de chaque langue de le dic\n",
    "    for (i, index) in enumerate(frequency[column].sort_values(ascending=False).index):\n",
    "        if i == 0:\n",
    "            de1[column].append(index)\n",
    "            de2[column].append(index)\n",
    "        if i == 1:\n",
    "            de3[column].append(index)\n",
    "            de4[column].append(index)\n",
    "        if i == 2:\n",
    "            de1[column].append(index)\n",
    "            de3[column].append(index)\n",
    "        if i == 3:\n",
    "            de2[column].append(index)\n",
    "            de4[column].append(index)\n",
    "        if i == 4:\n",
    "            de1[column].append(index)\n",
    "            de4[column].append(index)\n",
    "        if i == 5:\n",
    "            de2[column].append(index)\n",
    "            de3[column].append(index)\n",
    "        if i == 6:\n",
    "            de1[column].append(index)\n",
    "        if i == 7:\n",
    "            de2[column].append(index)\n",
    "        if i == 8:\n",
    "            de3[column].append(index)\n",
    "        if i == 9:\n",
    "            de4[column].append(index)\n",
    "        if i == 10:\n",
    "            de1[column].append(index)\n",
    "        if i == 11:\n",
    "            de2[column].append(index)\n",
    "        if i == 12:\n",
    "            de3[column].append(index)\n",
    "        if i == 13:\n",
    "            de4[column].append(index)\n",
    "        if i == 14:\n",
    "            de1[column].append(index)\n",
    "        if i == 15:\n",
    "            de2[column].append(index)\n",
    "        if i == 16:\n",
    "            de3[column].append(index)\n",
    "        if i == 17:\n",
    "            de4[column].append(index)\n",
    "\n",
    "#Création de DF pour chaque dé\n",
    "de1 = pd.DataFrame(de1)\n",
    "de2 = pd.DataFrame(de2)\n",
    "de3 = pd.DataFrame(de3)\n",
    "de4 = pd.DataFrame(de4)"
   ],
   "metadata": {
    "collapsed": false,
    "pycharm": {
     "name": "#%%\n"
    }
   }
  },
  {
   "cell_type": "markdown",
   "source": [
    "# Le Dé 1 est :"
   ],
   "metadata": {
    "collapsed": false
   }
  },
  {
   "cell_type": "code",
   "execution_count": 58,
   "outputs": [
    {
     "data": {
      "text/plain": "  Afrikaans Croatian Czech Danish Dutch Finish German Hungarian Italian  \\\n0         S        P     N      S     S      K      A         K       S   \n1         K        N     S      B     B      S      B         E       C   \n2         O        D     Z      T     A      V      E         T       P   \n3         V        Z     D      M     K      L      V         F       I   \n4         M        U     U      G     M      E      M         L       L   \n5         I        G     H      U     L      I      R         R       B   \n\n  Norvegian Polish Spanish Swailii Swedish turkish French English Portugese  \\\n0         S      P       A       A       S       K      D       S         A   \n1         F      W       C       M       K       T      R       C         D   \n2         K      K       R       N       T       A      P       T         P   \n3         P      N       I       U       P       D      S       B         M   \n4         V      U       F       S       R       P      F       H         B   \n5         G      C       O       P       G       F      V       I         H   \n\n  Finnish  \n0       K  \n1       S  \n2       V  \n3       M  \n4       N  \n5       O  ",
      "text/html": "<div>\n<style scoped>\n    .dataframe tbody tr th:only-of-type {\n        vertical-align: middle;\n    }\n\n    .dataframe tbody tr th {\n        vertical-align: top;\n    }\n\n    .dataframe thead th {\n        text-align: right;\n    }\n</style>\n<table border=\"1\" class=\"dataframe\">\n  <thead>\n    <tr style=\"text-align: right;\">\n      <th></th>\n      <th>Afrikaans</th>\n      <th>Croatian</th>\n      <th>Czech</th>\n      <th>Danish</th>\n      <th>Dutch</th>\n      <th>Finish</th>\n      <th>German</th>\n      <th>Hungarian</th>\n      <th>Italian</th>\n      <th>Norvegian</th>\n      <th>Polish</th>\n      <th>Spanish</th>\n      <th>Swailii</th>\n      <th>Swedish</th>\n      <th>turkish</th>\n      <th>French</th>\n      <th>English</th>\n      <th>Portugese</th>\n      <th>Finnish</th>\n    </tr>\n  </thead>\n  <tbody>\n    <tr>\n      <th>0</th>\n      <td>S</td>\n      <td>P</td>\n      <td>N</td>\n      <td>S</td>\n      <td>S</td>\n      <td>K</td>\n      <td>A</td>\n      <td>K</td>\n      <td>S</td>\n      <td>S</td>\n      <td>P</td>\n      <td>A</td>\n      <td>A</td>\n      <td>S</td>\n      <td>K</td>\n      <td>D</td>\n      <td>S</td>\n      <td>A</td>\n      <td>K</td>\n    </tr>\n    <tr>\n      <th>1</th>\n      <td>K</td>\n      <td>N</td>\n      <td>S</td>\n      <td>B</td>\n      <td>B</td>\n      <td>S</td>\n      <td>B</td>\n      <td>E</td>\n      <td>C</td>\n      <td>F</td>\n      <td>W</td>\n      <td>C</td>\n      <td>M</td>\n      <td>K</td>\n      <td>T</td>\n      <td>R</td>\n      <td>C</td>\n      <td>D</td>\n      <td>S</td>\n    </tr>\n    <tr>\n      <th>2</th>\n      <td>O</td>\n      <td>D</td>\n      <td>Z</td>\n      <td>T</td>\n      <td>A</td>\n      <td>V</td>\n      <td>E</td>\n      <td>T</td>\n      <td>P</td>\n      <td>K</td>\n      <td>K</td>\n      <td>R</td>\n      <td>N</td>\n      <td>T</td>\n      <td>A</td>\n      <td>P</td>\n      <td>T</td>\n      <td>P</td>\n      <td>V</td>\n    </tr>\n    <tr>\n      <th>3</th>\n      <td>V</td>\n      <td>Z</td>\n      <td>D</td>\n      <td>M</td>\n      <td>K</td>\n      <td>L</td>\n      <td>V</td>\n      <td>F</td>\n      <td>I</td>\n      <td>P</td>\n      <td>N</td>\n      <td>I</td>\n      <td>U</td>\n      <td>P</td>\n      <td>D</td>\n      <td>S</td>\n      <td>B</td>\n      <td>M</td>\n      <td>M</td>\n    </tr>\n    <tr>\n      <th>4</th>\n      <td>M</td>\n      <td>U</td>\n      <td>U</td>\n      <td>G</td>\n      <td>M</td>\n      <td>E</td>\n      <td>M</td>\n      <td>L</td>\n      <td>L</td>\n      <td>V</td>\n      <td>U</td>\n      <td>F</td>\n      <td>S</td>\n      <td>R</td>\n      <td>P</td>\n      <td>F</td>\n      <td>H</td>\n      <td>B</td>\n      <td>N</td>\n    </tr>\n    <tr>\n      <th>5</th>\n      <td>I</td>\n      <td>G</td>\n      <td>H</td>\n      <td>U</td>\n      <td>L</td>\n      <td>I</td>\n      <td>R</td>\n      <td>R</td>\n      <td>B</td>\n      <td>G</td>\n      <td>C</td>\n      <td>O</td>\n      <td>P</td>\n      <td>G</td>\n      <td>F</td>\n      <td>V</td>\n      <td>I</td>\n      <td>H</td>\n      <td>O</td>\n    </tr>\n  </tbody>\n</table>\n</div>"
     },
     "execution_count": 58,
     "metadata": {},
     "output_type": "execute_result"
    }
   ],
   "source": [
    "de1"
   ],
   "metadata": {
    "collapsed": false,
    "pycharm": {
     "name": "#%%\n"
    }
   }
  },
  {
   "cell_type": "markdown",
   "source": [
    "# Le DÉ 2 est :"
   ],
   "metadata": {
    "collapsed": false
   }
  },
  {
   "cell_type": "code",
   "execution_count": 59,
   "outputs": [
    {
     "data": {
      "text/plain": "  Afrikaans Croatian Czech Danish Dutch Finish German Hungarian Italian  \\\n0         S        P     N      S     S      K      A         K       S   \n1         B        O     V      K     G      T      G         S       R   \n2         A        K     O      A     O      M      K         A       D   \n3         H        I     K      H     P      H      H         V       T   \n4         P        T     T      R     R      N      W         P       V   \n5         N        C     A      O     Z      Y      U         O       O   \n\n  Norvegian Polish Spanish Swailii Swedish turkish French English Portugese  \\\n0         S      P       A       A       S       K      D       S         A   \n1         A      Z       E       K       B       M      E       A         C   \n2         T      O       P       H       A       B      A       M         R   \n3         M      D       S       T       O       Y      M       U         T   \n4         D      T       B       L       L       I      I       E         F   \n5         O      L       H       B       N       U      H       O         O   \n\n  Finnish  \n0       K  \n1       T  \n2       L  \n3       H  \n4       E  \n5       Y  ",
      "text/html": "<div>\n<style scoped>\n    .dataframe tbody tr th:only-of-type {\n        vertical-align: middle;\n    }\n\n    .dataframe tbody tr th {\n        vertical-align: top;\n    }\n\n    .dataframe thead th {\n        text-align: right;\n    }\n</style>\n<table border=\"1\" class=\"dataframe\">\n  <thead>\n    <tr style=\"text-align: right;\">\n      <th></th>\n      <th>Afrikaans</th>\n      <th>Croatian</th>\n      <th>Czech</th>\n      <th>Danish</th>\n      <th>Dutch</th>\n      <th>Finish</th>\n      <th>German</th>\n      <th>Hungarian</th>\n      <th>Italian</th>\n      <th>Norvegian</th>\n      <th>Polish</th>\n      <th>Spanish</th>\n      <th>Swailii</th>\n      <th>Swedish</th>\n      <th>turkish</th>\n      <th>French</th>\n      <th>English</th>\n      <th>Portugese</th>\n      <th>Finnish</th>\n    </tr>\n  </thead>\n  <tbody>\n    <tr>\n      <th>0</th>\n      <td>S</td>\n      <td>P</td>\n      <td>N</td>\n      <td>S</td>\n      <td>S</td>\n      <td>K</td>\n      <td>A</td>\n      <td>K</td>\n      <td>S</td>\n      <td>S</td>\n      <td>P</td>\n      <td>A</td>\n      <td>A</td>\n      <td>S</td>\n      <td>K</td>\n      <td>D</td>\n      <td>S</td>\n      <td>A</td>\n      <td>K</td>\n    </tr>\n    <tr>\n      <th>1</th>\n      <td>B</td>\n      <td>O</td>\n      <td>V</td>\n      <td>K</td>\n      <td>G</td>\n      <td>T</td>\n      <td>G</td>\n      <td>S</td>\n      <td>R</td>\n      <td>A</td>\n      <td>Z</td>\n      <td>E</td>\n      <td>K</td>\n      <td>B</td>\n      <td>M</td>\n      <td>E</td>\n      <td>A</td>\n      <td>C</td>\n      <td>T</td>\n    </tr>\n    <tr>\n      <th>2</th>\n      <td>A</td>\n      <td>K</td>\n      <td>O</td>\n      <td>A</td>\n      <td>O</td>\n      <td>M</td>\n      <td>K</td>\n      <td>A</td>\n      <td>D</td>\n      <td>T</td>\n      <td>O</td>\n      <td>P</td>\n      <td>H</td>\n      <td>A</td>\n      <td>B</td>\n      <td>A</td>\n      <td>M</td>\n      <td>R</td>\n      <td>L</td>\n    </tr>\n    <tr>\n      <th>3</th>\n      <td>H</td>\n      <td>I</td>\n      <td>K</td>\n      <td>H</td>\n      <td>P</td>\n      <td>H</td>\n      <td>H</td>\n      <td>V</td>\n      <td>T</td>\n      <td>M</td>\n      <td>D</td>\n      <td>S</td>\n      <td>T</td>\n      <td>O</td>\n      <td>Y</td>\n      <td>M</td>\n      <td>U</td>\n      <td>T</td>\n      <td>H</td>\n    </tr>\n    <tr>\n      <th>4</th>\n      <td>P</td>\n      <td>T</td>\n      <td>T</td>\n      <td>R</td>\n      <td>R</td>\n      <td>N</td>\n      <td>W</td>\n      <td>P</td>\n      <td>V</td>\n      <td>D</td>\n      <td>T</td>\n      <td>B</td>\n      <td>L</td>\n      <td>L</td>\n      <td>I</td>\n      <td>I</td>\n      <td>E</td>\n      <td>F</td>\n      <td>E</td>\n    </tr>\n    <tr>\n      <th>5</th>\n      <td>N</td>\n      <td>C</td>\n      <td>A</td>\n      <td>O</td>\n      <td>Z</td>\n      <td>Y</td>\n      <td>U</td>\n      <td>O</td>\n      <td>O</td>\n      <td>O</td>\n      <td>L</td>\n      <td>H</td>\n      <td>B</td>\n      <td>N</td>\n      <td>U</td>\n      <td>H</td>\n      <td>O</td>\n      <td>O</td>\n      <td>Y</td>\n    </tr>\n  </tbody>\n</table>\n</div>"
     },
     "execution_count": 59,
     "metadata": {},
     "output_type": "execute_result"
    }
   ],
   "source": [
    "de2"
   ],
   "metadata": {
    "collapsed": false,
    "pycharm": {
     "name": "#%%\n"
    }
   }
  },
  {
   "cell_type": "markdown",
   "source": [
    "# Le Dé 3 est :"
   ],
   "metadata": {
    "collapsed": false
   }
  },
  {
   "cell_type": "code",
   "execution_count": 60,
   "outputs": [
    {
     "data": {
      "text/plain": "  Afrikaans Croatian Czech Danish Dutch Finish German Hungarian Italian  \\\n0         G        S     P      F     V      P      S         M       A   \n1         K        N     S      B     B      S      B         E       C   \n2         A        K     O      A     O      M      K         A       D   \n3         D        M     R      P     T      A      F         H       F   \n4         L        B     B      V     H      O      D         I       E   \n5         E        L     L      N     I      B      T         C       N   \n\n  Norvegian Polish Spanish Swailii Swedish turkish French English Portugese  \\\n0         B      S       D       W       F       S      C       P         E   \n1         F      W       C       M       K       T      R       C         D   \n2         T      O       P       H       A       B      A       M         R   \n3         U      R       T       I       M       G      B       D         S   \n4         H      B       V       V       U       E      G       N         L   \n5         E      A       G       J       D       N      O       G         N   \n\n  Finnish  \n0       P  \n1       S  \n2       L  \n3       R  \n4       J  \n5       U  ",
      "text/html": "<div>\n<style scoped>\n    .dataframe tbody tr th:only-of-type {\n        vertical-align: middle;\n    }\n\n    .dataframe tbody tr th {\n        vertical-align: top;\n    }\n\n    .dataframe thead th {\n        text-align: right;\n    }\n</style>\n<table border=\"1\" class=\"dataframe\">\n  <thead>\n    <tr style=\"text-align: right;\">\n      <th></th>\n      <th>Afrikaans</th>\n      <th>Croatian</th>\n      <th>Czech</th>\n      <th>Danish</th>\n      <th>Dutch</th>\n      <th>Finish</th>\n      <th>German</th>\n      <th>Hungarian</th>\n      <th>Italian</th>\n      <th>Norvegian</th>\n      <th>Polish</th>\n      <th>Spanish</th>\n      <th>Swailii</th>\n      <th>Swedish</th>\n      <th>turkish</th>\n      <th>French</th>\n      <th>English</th>\n      <th>Portugese</th>\n      <th>Finnish</th>\n    </tr>\n  </thead>\n  <tbody>\n    <tr>\n      <th>0</th>\n      <td>G</td>\n      <td>S</td>\n      <td>P</td>\n      <td>F</td>\n      <td>V</td>\n      <td>P</td>\n      <td>S</td>\n      <td>M</td>\n      <td>A</td>\n      <td>B</td>\n      <td>S</td>\n      <td>D</td>\n      <td>W</td>\n      <td>F</td>\n      <td>S</td>\n      <td>C</td>\n      <td>P</td>\n      <td>E</td>\n      <td>P</td>\n    </tr>\n    <tr>\n      <th>1</th>\n      <td>K</td>\n      <td>N</td>\n      <td>S</td>\n      <td>B</td>\n      <td>B</td>\n      <td>S</td>\n      <td>B</td>\n      <td>E</td>\n      <td>C</td>\n      <td>F</td>\n      <td>W</td>\n      <td>C</td>\n      <td>M</td>\n      <td>K</td>\n      <td>T</td>\n      <td>R</td>\n      <td>C</td>\n      <td>D</td>\n      <td>S</td>\n    </tr>\n    <tr>\n      <th>2</th>\n      <td>A</td>\n      <td>K</td>\n      <td>O</td>\n      <td>A</td>\n      <td>O</td>\n      <td>M</td>\n      <td>K</td>\n      <td>A</td>\n      <td>D</td>\n      <td>T</td>\n      <td>O</td>\n      <td>P</td>\n      <td>H</td>\n      <td>A</td>\n      <td>B</td>\n      <td>A</td>\n      <td>M</td>\n      <td>R</td>\n      <td>L</td>\n    </tr>\n    <tr>\n      <th>3</th>\n      <td>D</td>\n      <td>M</td>\n      <td>R</td>\n      <td>P</td>\n      <td>T</td>\n      <td>A</td>\n      <td>F</td>\n      <td>H</td>\n      <td>F</td>\n      <td>U</td>\n      <td>R</td>\n      <td>T</td>\n      <td>I</td>\n      <td>M</td>\n      <td>G</td>\n      <td>B</td>\n      <td>D</td>\n      <td>S</td>\n      <td>R</td>\n    </tr>\n    <tr>\n      <th>4</th>\n      <td>L</td>\n      <td>B</td>\n      <td>B</td>\n      <td>V</td>\n      <td>H</td>\n      <td>O</td>\n      <td>D</td>\n      <td>I</td>\n      <td>E</td>\n      <td>H</td>\n      <td>B</td>\n      <td>V</td>\n      <td>V</td>\n      <td>U</td>\n      <td>E</td>\n      <td>G</td>\n      <td>N</td>\n      <td>L</td>\n      <td>J</td>\n    </tr>\n    <tr>\n      <th>5</th>\n      <td>E</td>\n      <td>L</td>\n      <td>L</td>\n      <td>N</td>\n      <td>I</td>\n      <td>B</td>\n      <td>T</td>\n      <td>C</td>\n      <td>N</td>\n      <td>E</td>\n      <td>A</td>\n      <td>G</td>\n      <td>J</td>\n      <td>D</td>\n      <td>N</td>\n      <td>O</td>\n      <td>G</td>\n      <td>N</td>\n      <td>U</td>\n    </tr>\n  </tbody>\n</table>\n</div>"
     },
     "execution_count": 60,
     "metadata": {},
     "output_type": "execute_result"
    }
   ],
   "source": [
    "de3"
   ],
   "metadata": {
    "collapsed": false,
    "pycharm": {
     "name": "#%%\n"
    }
   }
  },
  {
   "cell_type": "markdown",
   "source": [
    "# Le Dé 4 est :"
   ],
   "metadata": {
    "collapsed": false
   }
  },
  {
   "cell_type": "code",
   "execution_count": 61,
   "outputs": [
    {
     "data": {
      "text/plain": "  Afrikaans Croatian Czech Danish Dutch Finish German Hungarian Italian  \\\n0         G        S     P      F     V      P      S         M       A   \n1         B        O     V      K     G      T      G         S       R   \n2         O        D     Z      T     A      V      E         T       P   \n3         T        R     M      L     D      R      P         B       M   \n4         R        V     C      D     W      J      Z         N       G   \n5         F        A     I      I     U      U      L         J       U   \n\n  Norvegian Polish Spanish Swailii Swedish turkish French English Portugese  \\\n0         B      S       D       W       F       S      C       P         E   \n1         A      Z       E       K       B       M      E       A         C   \n2         K      K       R       N       T       A      P       T         P   \n3         R      M       M       Y       H       H      T       R         I   \n4         L      G       L       Z       V       O      L       F         G   \n5         I      F       N       F       I       R      N       L         V   \n\n  Finnish  \n0       P  \n1       T  \n2       V  \n3       A  \n4       I  \n5       F  ",
      "text/html": "<div>\n<style scoped>\n    .dataframe tbody tr th:only-of-type {\n        vertical-align: middle;\n    }\n\n    .dataframe tbody tr th {\n        vertical-align: top;\n    }\n\n    .dataframe thead th {\n        text-align: right;\n    }\n</style>\n<table border=\"1\" class=\"dataframe\">\n  <thead>\n    <tr style=\"text-align: right;\">\n      <th></th>\n      <th>Afrikaans</th>\n      <th>Croatian</th>\n      <th>Czech</th>\n      <th>Danish</th>\n      <th>Dutch</th>\n      <th>Finish</th>\n      <th>German</th>\n      <th>Hungarian</th>\n      <th>Italian</th>\n      <th>Norvegian</th>\n      <th>Polish</th>\n      <th>Spanish</th>\n      <th>Swailii</th>\n      <th>Swedish</th>\n      <th>turkish</th>\n      <th>French</th>\n      <th>English</th>\n      <th>Portugese</th>\n      <th>Finnish</th>\n    </tr>\n  </thead>\n  <tbody>\n    <tr>\n      <th>0</th>\n      <td>G</td>\n      <td>S</td>\n      <td>P</td>\n      <td>F</td>\n      <td>V</td>\n      <td>P</td>\n      <td>S</td>\n      <td>M</td>\n      <td>A</td>\n      <td>B</td>\n      <td>S</td>\n      <td>D</td>\n      <td>W</td>\n      <td>F</td>\n      <td>S</td>\n      <td>C</td>\n      <td>P</td>\n      <td>E</td>\n      <td>P</td>\n    </tr>\n    <tr>\n      <th>1</th>\n      <td>B</td>\n      <td>O</td>\n      <td>V</td>\n      <td>K</td>\n      <td>G</td>\n      <td>T</td>\n      <td>G</td>\n      <td>S</td>\n      <td>R</td>\n      <td>A</td>\n      <td>Z</td>\n      <td>E</td>\n      <td>K</td>\n      <td>B</td>\n      <td>M</td>\n      <td>E</td>\n      <td>A</td>\n      <td>C</td>\n      <td>T</td>\n    </tr>\n    <tr>\n      <th>2</th>\n      <td>O</td>\n      <td>D</td>\n      <td>Z</td>\n      <td>T</td>\n      <td>A</td>\n      <td>V</td>\n      <td>E</td>\n      <td>T</td>\n      <td>P</td>\n      <td>K</td>\n      <td>K</td>\n      <td>R</td>\n      <td>N</td>\n      <td>T</td>\n      <td>A</td>\n      <td>P</td>\n      <td>T</td>\n      <td>P</td>\n      <td>V</td>\n    </tr>\n    <tr>\n      <th>3</th>\n      <td>T</td>\n      <td>R</td>\n      <td>M</td>\n      <td>L</td>\n      <td>D</td>\n      <td>R</td>\n      <td>P</td>\n      <td>B</td>\n      <td>M</td>\n      <td>R</td>\n      <td>M</td>\n      <td>M</td>\n      <td>Y</td>\n      <td>H</td>\n      <td>H</td>\n      <td>T</td>\n      <td>R</td>\n      <td>I</td>\n      <td>A</td>\n    </tr>\n    <tr>\n      <th>4</th>\n      <td>R</td>\n      <td>V</td>\n      <td>C</td>\n      <td>D</td>\n      <td>W</td>\n      <td>J</td>\n      <td>Z</td>\n      <td>N</td>\n      <td>G</td>\n      <td>L</td>\n      <td>G</td>\n      <td>L</td>\n      <td>Z</td>\n      <td>V</td>\n      <td>O</td>\n      <td>L</td>\n      <td>F</td>\n      <td>G</td>\n      <td>I</td>\n    </tr>\n    <tr>\n      <th>5</th>\n      <td>F</td>\n      <td>A</td>\n      <td>I</td>\n      <td>I</td>\n      <td>U</td>\n      <td>U</td>\n      <td>L</td>\n      <td>J</td>\n      <td>U</td>\n      <td>I</td>\n      <td>F</td>\n      <td>N</td>\n      <td>F</td>\n      <td>I</td>\n      <td>R</td>\n      <td>N</td>\n      <td>L</td>\n      <td>V</td>\n      <td>F</td>\n    </tr>\n  </tbody>\n</table>\n</div>"
     },
     "execution_count": 61,
     "metadata": {},
     "output_type": "execute_result"
    }
   ],
   "source": [
    "de4"
   ],
   "metadata": {
    "collapsed": false,
    "pycharm": {
     "name": "#%%\n"
    }
   }
  },
  {
   "cell_type": "code",
   "execution_count": 65,
   "outputs": [],
   "source": [
    "limde1 = pd.DataFrame(index   = [\"DICE 1\"],\n",
    "                      columns = [\"0\", \"1\", \"2\", \"3\", \"4\", \"5\"])\n",
    "limde2 = pd.DataFrame(index   = [\"DICE 2\"],\n",
    "                      columns = [\"0\", \"1\", \"2\", \"3\", \"4\", \"5\"])\n",
    "limde3 = pd.DataFrame(index   = [\"DICE 3\"],\n",
    "                      columns = [\"0\", \"1\", \"2\", \"3\", \"4\", \"5\"])\n",
    "limde4 = pd.DataFrame(index   = [\"DICE 4\"],\n",
    "                      columns = [\"0\", \"1\", \"2\", \"3\", \"4\", \"5\"])"
   ],
   "metadata": {
    "collapsed": false,
    "pycharm": {
     "name": "#%%\n"
    }
   }
  },
  {
   "cell_type": "code",
   "execution_count": 66,
   "outputs": [],
   "source": [
    "des = pd.concat([limde1, de1.transpose(), limde2, de2.transpose(), limde3, de3.transpose(), limde4, de4.transpose()], axis=0)\n",
    "des.to_csv(\"frequancedes.csv\")"
   ],
   "metadata": {
    "collapsed": false,
    "pycharm": {
     "name": "#%%\n"
    }
   }
  }
 ],
 "metadata": {
  "kernelspec": {
   "display_name": "Python 3",
   "language": "python",
   "name": "python3"
  },
  "language_info": {
   "codemirror_mode": {
    "name": "ipython",
    "version": 2
   },
   "file_extension": ".py",
   "mimetype": "text/x-python",
   "name": "python",
   "nbconvert_exporter": "python",
   "pygments_lexer": "ipython2",
   "version": "2.7.6"
  }
 },
 "nbformat": 4,
 "nbformat_minor": 0
}